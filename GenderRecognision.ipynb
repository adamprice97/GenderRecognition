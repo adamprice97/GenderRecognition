{
 "metadata": {
  "language_info": {
   "codemirror_mode": {
    "name": "ipython",
    "version": 3
   },
   "file_extension": ".py",
   "mimetype": "text/x-python",
   "name": "python",
   "nbconvert_exporter": "python",
   "pygments_lexer": "ipython3",
   "version": "3.8.5-final"
  },
  "orig_nbformat": 2,
  "kernelspec": {
   "name": "python3",
   "display_name": "Python 3",
   "language": "python"
  }
 },
 "nbformat": 4,
 "nbformat_minor": 2,
 "cells": [
  {
   "source": [
    "#Human Face Gender Classification"
   ],
   "cell_type": "markdown",
   "metadata": {}
  },
  {
   "cell_type": "code",
   "execution_count": 39,
   "metadata": {},
   "outputs": [],
   "source": [
    "import pandas as pd\n",
    "import cv2\n",
    "import numpy as np\n",
    "from sklearn.utils import shuffle\n",
    "from sklearn.preprocessing import LabelEncoder\n",
    "import tensorflow as tf\n",
    "from tensorflow.keras import layers\n",
    "import sklearn"
   ]
  },
  {
   "cell_type": "code",
   "execution_count": null,
   "metadata": {},
   "outputs": [],
   "source": [
    "Load the data into data frames."
   ]
  },
  {
   "cell_type": "code",
   "execution_count": 3,
   "metadata": {},
   "outputs": [],
   "source": [
    "face_train = pd.read_csv('fairface_label_train.csv')\n",
    "face_train = face_train.loc[:, 'file':'race']\n",
    "face_test = pd.read_csv('fairface_label_val.csv')\n",
    "face_test = face_test.loc[:, 'file':'race']"
   ]
  },
  {
   "cell_type": "code",
   "execution_count": null,
   "metadata": {},
   "outputs": [],
   "source": []
  },
  {
   "source": [
    "face_train_clean = pd.DataFrame({'file' : [], 'gender' : []})\n",
    "\n",
    "for i in range(0, len(face_train['file'])):\n",
    "    imagePath = face_train['file'][i]\n",
    "\n",
    "    image = cv2.imread(imagePath)\n",
    "    gray = cv2.cvtColor(image, cv2.COLOR_BGR2GRAY)\n",
    "\n",
    "    faceCascade = cv2.CascadeClassifier(cv2.data.haarcascades + \"haarcascade_frontalface_default.xml\")\n",
    "    faces = faceCascade.detectMultiScale(\n",
    "        gray,\n",
    "        scaleFactor=1.03,\n",
    "        minNeighbors=12,\n",
    "        minSize=(120, 120)\n",
    "    )\n",
    "\n",
    "    if np.shape(faces)[0] > 0:\n",
    "        x, y, w, h = faces[:][0]\n",
    "        roi_color = image[y:y + h, x:x + w]    \n",
    "        cv2.imwrite('TrainClean/' + str(i+1) + '.jpg', cv2.resize(src=roi_color,dsize=(224, 224)))\n",
    "        new_row = {'file' : 'TrainClean/' + str(i+1) + '.jpg', 'gender' : face_train['gender'][i]}\n",
    "        face_train_clean = face_train_clean.append(new_row, ignore_index=True)\n",
    "        \n",
    "face_train_clean.to_csv('clean_training_data.csv')"
   ],
   "cell_type": "code",
   "metadata": {},
   "execution_count": 35,
   "outputs": []
  },
  {
   "cell_type": "code",
   "execution_count": 44,
   "metadata": {},
   "outputs": [],
   "source": [
    "face_test_clean = pd.DataFrame({'file' : [], 'gender' : []})\n",
    "\n",
    "for i in range(0, len(face_test['file'])):\n",
    "    imagePath = face_test['file'][i]\n",
    "\n",
    "    image = cv2.imread(imagePath)\n",
    "    gray = cv2.cvtColor(image, cv2.COLOR_BGR2GRAY)\n",
    "\n",
    "    faceCascade = cv2.CascadeClassifier(cv2.data.haarcascades + \"haarcascade_frontalface_default.xml\")\n",
    "    faces = faceCascade.detectMultiScale(\n",
    "        gray,\n",
    "        scaleFactor=1.03,\n",
    "        minNeighbors=12,\n",
    "        minSize=(120, 120)\n",
    "    )\n",
    "\n",
    "    if np.shape(faces)[0] > 0:\n",
    "        x, y, w, h = faces[:][0]\n",
    "        roi_color = image[y:y + h, x:x + w]    \n",
    "        cv2.imwrite('TestClean/' + str(i+1) + '.jpg', cv2.resize(src=roi_color,dsize=(224, 224)))\n",
    "        new_row = {'file' : 'TestClean/' + str(i+1) + '.jpg', 'gender' : face_test['gender'][i]}\n",
    "        face_test_clean = face_test_clean.append(new_row, ignore_index=True)\n",
    "        \n",
    "face_test_clean.to_csv('clean_test_data.csv')"
   ]
  },
  {
   "cell_type": "code",
   "execution_count": 4,
   "metadata": {
    "pycharm": {
     "is_executing": true
    }
   },
   "outputs": [],
   "source": [
    "face_train_clean = pd.read_csv('clean_training_data.csv')\n",
    "face_test_clean = pd.read_csv('clean_test_data.csv')\n",
    "\n",
    "# Load x and y training and testing data\n",
    "train_images = np.zeros((len(face_train_clean['file']), 224, 224, 3), dtype='uint8')\n",
    "train_labels = np.array(face_train_clean['gender'])\n",
    "test_images = np.zeros((len(face_test_clean['file']), 224, 224, 3), dtype='uint8')\n",
    "test_labels = np.array(face_test_clean['gender'])\n",
    "\n",
    "# map the labels to numbers\n",
    "le = LabelEncoder()\n",
    "train_labels = le.fit_transform(train_labels)\n",
    "for i in range(len(face_train_clean['file'])):\n",
    "    train_images[i] = cv2.imread(face_train_clean['file'][i])\n",
    "\n",
    "test_labels = le.fit_transform(test_labels)\n",
    "for i in range(len(face_test_clean['file'])):\n",
    "    test_images[i] = cv2.imread(face_test_clean['file'][i])\n"
   ]
  },
  {
   "source": [
    "model = tf.keras.models.Sequential()\n",
    "model.add(layers.Conv2D(filters=32, \n",
    "                        input_shape=(224, 224, 3), \n",
    "                        kernel_size=(7, 7), \n",
    "                        strides=(2, 2),\n",
    "                        activation='relu',                  \n",
    "                        padding='same'))\n",
    "model.add(layers.MaxPooling2D(pool_size=(2, 2), padding=\"same\"))\n",
    "model.add(layers.Dropout(0.25))\n",
    "model.add(layers.Conv2D(filters=64, \n",
    "                        kernel_size=(5, 5),\n",
    "                        activation='relu',                   \n",
    "                        padding='same'))\n",
    "model.add(layers.MaxPooling2D(pool_size=(2, 2), padding=\"same\"))\n",
    "model.add(layers.Dropout(0.25))\n",
    "model.add(layers.Conv2D(filters=96, \n",
    "                        kernel_size=(5, 5),\n",
    "                        activation='relu',                   \n",
    "                        padding='same'))\n",
    "model.add(layers.MaxPooling2D(pool_size=(2, 2), padding=\"same\"))\n",
    "model.add(layers.Dropout(0.25))\n",
    "model.add(layers.Conv2D(filters=128, \n",
    "                        kernel_size=(5, 5),\n",
    "                        activation='relu',                   \n",
    "                        padding='same'))\n",
    "model.add(layers.MaxPooling2D(pool_size=(2, 2), padding=\"same\"))\n",
    "model.add(layers.Dropout(0.25))\n",
    "model.add(layers.Conv2D(filters=64, \n",
    "                        kernel_size=(3, 3),\n",
    "                        activation='relu',                   \n",
    "                        padding='same'))\n",
    "model.add(layers.MaxPooling2D(pool_size=(2, 2), padding=\"same\"))\n",
    "model.add(layers.Dropout(0.25))\n",
    "model.add(layers.Flatten())\n",
    "model.add(layers.Dense(1024, activation='relu'))\n",
    "model.add(layers.Dropout(0.2))\n",
    "model.add(layers.Dense(512, activation='relu'))\n",
    "model.add(layers.Dropout(0.2))\n",
    "model.add(layers.Dense(256, activation='relu'))\n",
    "model.add(layers.Dropout(0.2))\n",
    "model.add(layers.Dense(1, activation='sigmoid'))\n",
    "\n",
    "model.compile(optimizer='adam', loss='binary_crossentropy', metrics='accuracy')\n",
    "\n",
    "model.summary()\n",
    "\n",
    "es = tf.keras.callbacks.EarlyStopping(monitor='loss', patience=2)\n",
    "chp = tf.keras.callbacks.ModelCheckpoint(filepath='checkpoints/weights.{epoch:02d}.hdf5', save_weights_only=False, save_freq=1000)\n",
    "model.fit(train_images, train_labels, epochs=60, batch_size=128, validation_split=0.3, callbacks=[es, chp])\n"
   ],
   "cell_type": "code",
   "metadata": {},
   "execution_count": null,
   "outputs": []
  },
  {
   "cell_type": "code",
   "execution_count": 16,
   "metadata": {
    "pycharm": {
     "is_executing": true
    }
   },
   "outputs": [
    {
     "output_type": "stream",
     "name": "stdout",
     "text": [
      "Gender classification model is 88.0393227744402% accurate.\n"
     ]
    }
   ],
   "source": [
    "predictions = np.round(reconstructed_model.predict(test_images))\n",
    "predictions = predictions.astype(int)\n",
    "test_labels.reshape(len(test_labels),1)\n",
    "\n",
    "correctPredictions = np.sum(predictions[:,0]==test_labels)\n",
    "\n",
    "accuracy = (correctPredictions / len(predictions))*100\n",
    "print(\"Gender classification model is \" + str(accuracy) + \"% accurate.\")"
   ]
  },
  {
   "cell_type": "code",
   "execution_count": 41,
   "metadata": {},
   "outputs": [
    {
     "output_type": "execute_result",
     "data": {
      "text/plain": [
       "array([[2547,  345],\n",
       "       [ 312, 2289]], dtype=int64)"
      ]
     },
     "metadata": {},
     "execution_count": 41
    }
   ],
   "source": [
    "matrix = sklearn.metrics.confusion_matrix(test_labels, predictions)\n",
    "matrix"
   ]
  },
  {
   "cell_type": "code",
   "execution_count": 40,
   "metadata": {},
   "outputs": [
    {
     "output_type": "execute_result",
     "data": {
      "text/plain": [
       "0"
      ]
     },
     "metadata": {},
     "execution_count": 40
    }
   ],
   "source": [
    "import os\n",
    "\n",
    "os.system('jupyter nbconvert --to html GenderRecognision.ipynb')"
   ]
  },
  {
   "cell_type": "code",
   "execution_count": null,
   "metadata": {},
   "outputs": [],
   "source": []
  }
 ]
}